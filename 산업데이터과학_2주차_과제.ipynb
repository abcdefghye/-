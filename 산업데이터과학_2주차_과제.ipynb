{
  "nbformat": 4,
  "nbformat_minor": 0,
  "metadata": {
    "colab": {
      "provenance": []
    },
    "kernelspec": {
      "name": "python3",
      "display_name": "Python 3"
    },
    "language_info": {
      "name": "python"
    }
  },
  "cells": [
    {
      "cell_type": "markdown",
      "source": [
        "*   과제\n",
        "   \n",
        "> 과제 1) 특정 조건을 만족하는 Array 생성한뒤 shape print하기\n",
        "\n",
        ">> 조건1) 1열은 0과 1사이의 균등분포에서 추출된 난수로 구성된 10개의 행으로 구성\n",
        ">> 조건2) 2열은 표준 정규 분포에서 추출된 난수로 구성된 10개의 행으로 구성\n",
        "\n",
        ">> Hint) \n",
        ">> step1) 균등분포 및 표준 정규 분포에서 난수 생성 한뒤 각각의 array의 shape을 10행 1열로 바꿈\n",
        ">> step2) 각 array를 concate 시킴\n",
        "\n",
        ">> 평가기준) concate시킨 array의 shape이 10행 2열을 만족할 것\n",
        "\n",
        "> 과제 2) 과제1을 통해 생성된 array를 열 기준으로 평균과 표준편차를 구할 것\n",
        "\n",
        ">> Hint) 출력된 값이 균등분포의 평균 및 표준 정규 분포의 평균과 유사 해야함.\n"
      ],
      "metadata": {
        "id": "O_H59es8oxeS"
      }
    },
    {
      "cell_type": "markdown",
      "source": [
        "#과제 1"
      ],
      "metadata": {
        "id": "Y80wTf7qrr_j"
      }
    },
    {
      "cell_type": "code",
      "source": [
        "import numpy as np"
      ],
      "metadata": {
        "id": "Rc51GXrpozaM"
      },
      "execution_count": 1,
      "outputs": []
    },
    {
      "cell_type": "code",
      "source": [
        "arr1=np.random.rand(10)\n",
        "arr1=arr1.reshape([10,1])\n",
        "print(arr1)\n",
        "print(arr1.shape)"
      ],
      "metadata": {
        "colab": {
          "base_uri": "https://localhost:8080/"
        },
        "id": "I7B0Sq8WpEbv",
        "outputId": "27cf0f2b-dadd-47d1-fa79-b52031ec6b36"
      },
      "execution_count": 22,
      "outputs": [
        {
          "output_type": "stream",
          "name": "stdout",
          "text": [
            "[[0.34882345]\n",
            " [0.66765788]\n",
            " [0.23533262]\n",
            " [0.64680477]\n",
            " [0.73542553]\n",
            " [0.02997652]\n",
            " [0.1723011 ]\n",
            " [0.24709279]\n",
            " [0.30176393]\n",
            " [0.29845501]]\n",
            "(10, 1)\n"
          ]
        }
      ]
    },
    {
      "cell_type": "code",
      "source": [
        "arr2=np.random.randn(10)\n",
        "arr2=arr2.reshape([10,1])\n",
        "print(arr2)\n",
        "print(arr2.shape)"
      ],
      "metadata": {
        "colab": {
          "base_uri": "https://localhost:8080/"
        },
        "id": "2j3JRdtOpWoe",
        "outputId": "91ccc7ed-21c8-4b3d-e28c-5fd4fbaf00c9"
      },
      "execution_count": 23,
      "outputs": [
        {
          "output_type": "stream",
          "name": "stdout",
          "text": [
            "[[ 0.28643589]\n",
            " [ 0.07512309]\n",
            " [ 0.81007469]\n",
            " [-0.53672352]\n",
            " [ 0.07916268]\n",
            " [ 0.28759643]\n",
            " [ 0.83400719]\n",
            " [ 1.34969246]\n",
            " [-0.75991861]\n",
            " [-0.61013773]]\n",
            "(10, 1)\n"
          ]
        }
      ]
    },
    {
      "cell_type": "code",
      "source": [
        "arr=np.concatenate((arr1,arr2),axis=1)\n",
        "print(arr)\n",
        "print(arr.shape)"
      ],
      "metadata": {
        "colab": {
          "base_uri": "https://localhost:8080/"
        },
        "id": "sNzaNAv3pt8S",
        "outputId": "b8f21144-95cd-42b6-fac4-0223d49ff20d"
      },
      "execution_count": 30,
      "outputs": [
        {
          "output_type": "stream",
          "name": "stdout",
          "text": [
            "[[ 0.34882345  0.28643589]\n",
            " [ 0.66765788  0.07512309]\n",
            " [ 0.23533262  0.81007469]\n",
            " [ 0.64680477 -0.53672352]\n",
            " [ 0.73542553  0.07916268]\n",
            " [ 0.02997652  0.28759643]\n",
            " [ 0.1723011   0.83400719]\n",
            " [ 0.24709279  1.34969246]\n",
            " [ 0.30176393 -0.75991861]\n",
            " [ 0.29845501 -0.61013773]]\n",
            "(10, 2)\n"
          ]
        }
      ]
    },
    {
      "cell_type": "markdown",
      "source": [
        "#과제 2"
      ],
      "metadata": {
        "id": "_V_6xw68rwEQ"
      }
    },
    {
      "cell_type": "code",
      "source": [
        "#array 열 기준 평균\n",
        "print(np.mean(arr, axis=0))\n",
        "\n",
        "#array 열 기준 표준편차\n",
        "print(np.std(arr, axis=0))"
      ],
      "metadata": {
        "colab": {
          "base_uri": "https://localhost:8080/"
        },
        "id": "CND1m39jrkUq",
        "outputId": "0fef9a69-70ce-45a2-a240-e1ee862df473"
      },
      "execution_count": 29,
      "outputs": [
        {
          "output_type": "stream",
          "name": "stdout",
          "text": [
            "[0.36836336 0.18153126]\n",
            "[0.22291158 0.65256468]\n"
          ]
        }
      ]
    }
  ]
}